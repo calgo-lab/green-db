{
 "cells": [
  {
   "cell_type": "code",
   "execution_count": null,
   "id": "8db2dae8",
   "metadata": {},
   "outputs": [],
   "source": [
    "# #Install a pip package in the current Jupyter kernel\n",
    "# import sys\n",
    "# !{sys.executable} -m pip install pandas"
   ]
  },
  {
   "cell_type": "markdown",
   "id": "a7967167",
   "metadata": {},
   "source": [
    "# NOTE: Before executing this ipynb, make sure you have done the following things:\n",
    "### 1. Change the table name of green-db to green-db-backup (from your favorite sql client)\n",
    "\n",
    "```sql\n",
    "ALTER TABLE \"green-db\" RENAME TO \"green-db-backup\";\n",
    "```\n",
    "\n",
    "### 2. Redeploy workers\n",
    "\n",
    "```bash\n",
    "make workers-test-deploy\n",
    "```\n",
    "\n",
    "### 3. Insert old data into new Scraping Tables \n",
    "\n",
    "```sql\n",
    "--DE\n",
    "INSERT INTO \"otto_DE\"\n",
    "\tSELECT \"id\", \"timestamp\", \"merchant\" AS \"source\", \"merchant\", 'DE' AS country, \"category\", \"url\", \"html\", \"page_type\",\n",
    "\t  CASE \n",
    "\t    WHEN meta_information->>'sex' IS NULL THEN NULL\n",
    "\t\t ELSE upper(meta_information->>'sex')\n",
    "\t\tEND\n",
    "\t\tAS gender,\n",
    "\t  CASE\n",
    "\t    WHEN meta_information->>'sex' IS NULL THEN NULL\n",
    "\t    ELSE 'ADULT'\n",
    "\t  END\n",
    "\t  AS consumer_lifestage,\n",
    "\t  \"meta_information\"\n",
    "\tFROM otto;\n",
    "\t\n",
    "INSERT INTO \"amazon_DE\"\n",
    "\tSELECT \"id\", \"timestamp\", \"merchant\" AS \"source\", \"merchant\", 'DE' AS country, \"category\", \"url\", \"html\", \"page_type\",\n",
    "\t  CASE \n",
    "\t    WHEN meta_information->>'sex' IS NULL THEN NULL\n",
    "\t\t ELSE upper(meta_information->>'sex')\n",
    "\t\tEND\n",
    "\t\tAS gender,\n",
    "\t  CASE\n",
    "\t    WHEN meta_information->>'sex' IS NULL THEN NULL\n",
    "\t    ELSE 'ADULT'\n",
    "\t  END\n",
    "\t  AS consumer_lifestage,\n",
    "\t  \"meta_information\"\n",
    "\tFROM amazon;\n",
    "\t\n",
    "INSERT INTO \"zalando_DE\"\n",
    "\tSELECT \"id\", \"timestamp\", \"merchant\" AS \"source\", \"merchant\", 'DE' AS country, \"category\", \"url\", \"html\", \"page_type\",\n",
    "\t  CASE \n",
    "\t    WHEN meta_information->>'sex' IS NULL THEN NULL\n",
    "\t\t ELSE upper(meta_information->>'sex')\n",
    "\t\tEND\n",
    "\t\tAS gender,\n",
    "\t  CASE\n",
    "\t    WHEN meta_information->>'sex' IS NULL THEN NULL\n",
    "\t    ELSE 'ADULT'\n",
    "\t  END\n",
    "\t  AS consumer_lifestage,\n",
    "\t  \"meta_information\"\n",
    "\tFROM zalando;\n",
    "\n",
    "--FR\n",
    "INSERT INTO \"asos_FR\"\n",
    "\tSELECT \"id\", \"timestamp\", \"merchant\" AS \"source\", \"merchant\", 'FR' AS country, \"category\", \"url\", \"html\", \"page_type\",\n",
    "\t  CASE \n",
    "\t    WHEN meta_information->>'sex' IS NULL THEN NULL\n",
    "\t\t ELSE upper(meta_information->>'sex')\n",
    "\t\tEND\n",
    "\t\tAS gender,\n",
    "\t  CASE\n",
    "\t    WHEN meta_information->>'sex' IS NULL THEN NULL\n",
    "\t    ELSE 'ADULT'\n",
    "\t  END\n",
    "\t  AS consumer_lifestage,\n",
    "\t  \"meta_information\"\n",
    "\tFROM asos;\n",
    "\n",
    "INSERT INTO \"hm_FR\"\n",
    "\tSELECT \"id\", \"timestamp\", \"merchant\" AS \"source\", \"merchant\", 'FR' AS country, \"category\", \"url\", \"html\", \"page_type\",\n",
    "\t  CASE \n",
    "\t    WHEN meta_information->>'sex' IS NULL THEN NULL\n",
    "\t\t ELSE upper(meta_information->>'sex')\n",
    "\t\tEND\n",
    "\t\tAS gender,\n",
    "\t  CASE\n",
    "\t    WHEN meta_information->>'sex' IS NULL THEN NULL\n",
    "\t    ELSE 'ADULT'\n",
    "\t  END\n",
    "\t  AS consumer_lifestage,\n",
    "\t  \"meta_information\"\n",
    "\tFROM hm;\n",
    "\n",
    "INSERT INTO \"zalando_FR\"\n",
    "\tSELECT \"id\", \"timestamp\", 'zalando' AS \"source\", 'zalando' AS \"merchant\", 'FR' AS country, \"category\", \"url\", \"html\", \"page_type\",\n",
    "\t  CASE \n",
    "\t    WHEN meta_information->>'sex' IS NULL THEN NULL\n",
    "\t\t ELSE upper(meta_information->>'sex')\n",
    "\t\tEND\n",
    "\t\tAS gender,\n",
    "\t  CASE\n",
    "\t    WHEN meta_information->>'sex' IS NULL THEN NULL\n",
    "\t    ELSE 'ADULT'\n",
    "\t  END\n",
    "\t  AS consumer_lifestage,\n",
    "\t  \"meta_information\"\n",
    "\tFROM zalando_fr;\n",
    "\n",
    "INSERT INTO \"amazon_FR\"\n",
    "\tSELECT \"id\", \"timestamp\", 'amazon' AS \"source\", 'amazon' AS \"merchant\", 'FR' AS country, \"category\", \"url\", \"html\", \"page_type\",\n",
    "\t  CASE \n",
    "\t    WHEN meta_information->>'sex' IS NULL THEN NULL\n",
    "\t\t ELSE upper(meta_information->>'sex')\n",
    "\t\tEND\n",
    "\t\tAS gender,\n",
    "\t  CASE\n",
    "\t    WHEN meta_information->>'sex' IS NULL THEN NULL\n",
    "\t    ELSE 'ADULT'\n",
    "\t  END\n",
    "\t  AS consumer_lifestage,\n",
    "\t  \"meta_information\"\n",
    "\tFROM amazon_fr;\n",
    "\n",
    "\n",
    "--GB\n",
    "INSERT INTO \"zalando_GB\"\n",
    "\tSELECT \"id\", \"timestamp\", 'zalando' AS \"source\", 'zalando' AS \"merchant\", 'GB' AS country, \"category\", \"url\", \"html\", \"page_type\",\n",
    "\t  CASE \n",
    "\t    WHEN meta_information->>'sex' IS NULL THEN NULL\n",
    "\t\t ELSE upper(meta_information->>'sex')\n",
    "\t\tEND\n",
    "\t\tAS gender,\n",
    "\t  CASE\n",
    "\t    WHEN meta_information->>'sex' IS NULL THEN NULL\n",
    "\t    ELSE 'ADULT'\n",
    "\t  END\n",
    "\t  AS consumer_lifestage,\n",
    "\t  \"meta_information\"\n",
    "\tFROM zalando_uk;\n",
    "```\n",
    "\n",
    "### 4. Set autoincrements for all scraping tables\n",
    "\n",
    "```sql\n",
    "-- SET autoincrements\n",
    "Select setval('\"zalando_DE_id_seq\"'::REGCLASS, (select max(id) FROM \"zalando_DE\"));\n",
    "Select setval('\"zalando_FR_id_seq\"'::REGCLASS, (select max(id) FROM \"zalando_FR\"));\n",
    "Select setval('\"zalando_GB_id_seq\"'::REGCLASS, (select max(id) FROM \"zalando_GB\"));\n",
    "\n",
    "Select setval('\"hm_FR_id_seq\"'::REGCLASS, (select max(id) FROM \"hm_FR\"));\n",
    "Select setval('\"asos_FR_id_seq\"'::REGCLASS, (select max(id) FROM \"asos_FR\"));\n",
    "Select setval('\"otto_DE_id_seq\"'::REGCLASS, (select max(id) FROM \"otto_DE\"));\n",
    "\n",
    "Select setval('\"amazon_FR_id_seq\"'::REGCLASS, (select max(id) FROM \"amazon_FR\"));\n",
    "Select setval('\"amazon_DE_id_seq\"'::REGCLASS, (select max(id) FROM \"amazon_DE\"));\n",
    "```\n",
    "\n",
    "### 5. Add postgres passwords in the following cell\n",
    "\n",
    "### 6. Run this ipynb\n",
    "\n",
    "**6.1 load scraping tables**\n",
    "\n",
    "**6.2 load old greendb table** \n",
    "\n",
    "**6.3 merge scraping and greendb (except asos)**\n",
    "\n",
    "**6.4 join asos exclusively**\n",
    "\n",
    "**6.5 combine joined asos and all others**\n",
    "\n",
    "**6.6 insert merged data into new greendb**\n",
    "\n",
    "### 7. Set autoincrements for green-db table\n",
    "\n",
    "```sql\n",
    "Select setval('\"green-db_id_seq\"'::REGCLASS, (select max(id) FROM \"green-db\"));\n",
    "```"
   ]
  },
  {
   "cell_type": "markdown",
   "id": "d42716a5",
   "metadata": {},
   "source": [
    "# 6. RUN this ipynb\n",
    "## 6.1 load scraping tables"
   ]
  },
  {
   "cell_type": "code",
   "execution_count": 1,
   "id": "2c10dea4",
   "metadata": {},
   "outputs": [],
   "source": [
    "import os\n",
    "os.environ[\"POSTGRES_SCRAPING_USER\"] = 'scraping'\n",
    "os.environ[\"POSTGRES_SCRAPING_PASSWORD\"] = 'scrapingpw' # TODO\n",
    "os.environ[\"POSTGRES_SCRAPING_HOST\"] = '127.0.0.1'\n",
    "os.environ[\"POSTGRES_SCRAPING_PORT\"] = '5432'\n",
    "\n",
    "os.environ[\"POSTGRES_GREEN_DB_USER\"] = \"green-db\"\n",
    "os.environ[\"POSTGRES_GREEN_DB_PASSWORD\"] = \"greendbpw\" # TODO\n",
    "os.environ[\"POSTGRES_GREEN_DB_HOST\"] = \"localhost\"\n",
    "os.environ[\"POSTGRES_GREEN_DB_PORT\"] = \"5432\"\n",
    "\n",
    "from database.connection import Scraping\n",
    "import pandas as pd\n",
    "import numpy as np"
   ]
  },
  {
   "cell_type": "code",
   "execution_count": 2,
   "id": "4a1abf49",
   "metadata": {},
   "outputs": [],
   "source": [
    "from sqlalchemy import ARRAY, BIGINT, INTEGER, JSON, NUMERIC, TEXT, TIMESTAMP, VARCHAR, Column\n",
    "\n",
    "from datetime import datetime\n",
    "from enum import Enum\n",
    "from typing import List, Optional\n",
    "\n",
    "from pydantic import BaseModel, conint, conlist\n",
    "\n",
    "\n",
    "class PageType(str, Enum):\n",
    "    SERP = \"SERP\"\n",
    "    PRODUCT = \"PRODUCT\"\n",
    "\n",
    "\n",
    "class ScrapedPageNoHTML(BaseModel):\n",
    "    timestamp: datetime\n",
    "    source: str\n",
    "    merchant: str\n",
    "    country: str\n",
    "    url: str\n",
    "    #page_type: PageType\n",
    "    category: str\n",
    "    gender: Optional[str]\n",
    "    consumer_lifestage: Optional[str]\n",
    "    #meta_information: dict\n",
    "\n",
    "    class Config:\n",
    "        orm_mode = True\n",
    "        use_enum_values = True"
   ]
  },
  {
   "cell_type": "code",
   "execution_count": 3,
   "id": "5fd1cd94",
   "metadata": {},
   "outputs": [],
   "source": [
    "from database.connection import Scraping, Connection\n",
    "from core.domain import ScrapedPage\n",
    "from message_queue import MessageQueue\n",
    "from typing import Iterator\n",
    "\n",
    "\n",
    "class Scraping2(Scraping):      \n",
    "    def get_scraped_products_no_html(self, batch_size: int = 1000) -> Iterator[ScrapedPage]:\n",
    "        \"\"\"\n",
    "        Fetch all `ScrapedPage`s.\n",
    "\n",
    "        Args:        \n",
    "            batch_size (int, optional): How many rows to fetch simultaneously. Defaults to 1000.\n",
    "\n",
    "        Yields:\n",
    "            Iterator[ScrapedPage]: Iterator over the domain object representations\n",
    "        \"\"\"\n",
    "        with self._session_factory() as db_session:\n",
    "            query = db_session.query(self._database_class.id, \n",
    "                                     self._database_class.timestamp, \n",
    "                                     self._database_class.source,\n",
    "                                     self._database_class.merchant, \n",
    "                                     self._database_class.country, \n",
    "                                     self._database_class.url, \n",
    "                                     #self._database_class.page_type, \n",
    "                                     self._database_class.category, \n",
    "                                     self._database_class.gender, \n",
    "                                     self._database_class.consumer_lifestage,\n",
    "                                     #self._database_class.meta_information,\n",
    "                                    ).filter(\n",
    "                self._database_class.page_type == 'PRODUCT'\n",
    "            )\n",
    "            return (ScrapedPageNoHTML.from_orm(row) for row in query.all())"
   ]
  },
  {
   "cell_type": "code",
   "execution_count": 4,
   "id": "a51f877f",
   "metadata": {},
   "outputs": [],
   "source": [
    "name_2_db = {\n",
    "    \"zalando_DE\": Scraping2(\"zalando_DE\"),\n",
    "    \"zalando_GB\": Scraping2(\"zalando_GB\"),\n",
    "    \"zalando_FR\": Scraping2(\"zalando_FR\"),\n",
    "    \"otto_DE\": Scraping2(\"otto_DE\"),      \n",
    "    \"hm_FR\": Scraping2(\"hm_FR\"),\n",
    "    \"amazon_DE\": Scraping2(\"amazon_DE\"),\n",
    "    \"amazon_FR\": Scraping2(\"amazon_FR\"),\n",
    "    \"asos_FR\": Scraping2(\"asos_FR\"),\n",
    "}\n",
    "\n",
    "# name_2_db = {\n",
    "#     \"zalando\": Scraping2(\"zalando\"),\n",
    "#     \"zalando_uk\": Scraping2(\"zalando_uk\"),\n",
    "#     \"zalando_fr\": Scraping2(\"zalando_fr\"),\n",
    "#     \"otto\": Scraping2(\"otto\"),      \n",
    "#     \"hm\": Scraping2(\"hm\"),\n",
    "#     \"amazon\": Scraping2(\"amazon\"),\n",
    "#     \"amazon_fr\": Scraping2(\"amazon_fr\"),\n",
    "#     \"asos\": Scraping2(\"asos\"),\n",
    "# }"
   ]
  },
  {
   "cell_type": "code",
   "execution_count": 5,
   "id": "07e97e57",
   "metadata": {
    "scrolled": true
   },
   "outputs": [
    {
     "data": {
      "text/plain": [
       "(30393, 8)"
      ]
     },
     "execution_count": 5,
     "metadata": {},
     "output_type": "execute_result"
    }
   ],
   "source": [
    "all_scraping_products = pd.DataFrame()\n",
    "\n",
    "for name, db in name_2_db.items():\n",
    "    products_iterator = db.get_scraped_products_no_html()\n",
    "    products = pd.DataFrame([product.__dict__ for product in products_iterator])\n",
    "    \n",
    "    all_scraping_products = pd.concat([all_scraping_products, products])\n",
    "    \n",
    "all_scraping_products.shape"
   ]
  },
  {
   "cell_type": "code",
   "execution_count": 8,
   "id": "4f6bd3b0",
   "metadata": {},
   "outputs": [
    {
     "data": {
      "text/html": [
       "<div>\n",
       "<style scoped>\n",
       "    .dataframe tbody tr th:only-of-type {\n",
       "        vertical-align: middle;\n",
       "    }\n",
       "\n",
       "    .dataframe tbody tr th {\n",
       "        vertical-align: top;\n",
       "    }\n",
       "\n",
       "    .dataframe thead th {\n",
       "        text-align: right;\n",
       "    }\n",
       "</style>\n",
       "<table border=\"1\" class=\"dataframe\">\n",
       "  <thead>\n",
       "    <tr style=\"text-align: right;\">\n",
       "      <th></th>\n",
       "      <th>timestamp</th>\n",
       "      <th>source</th>\n",
       "      <th>merchant</th>\n",
       "      <th>country</th>\n",
       "      <th>url</th>\n",
       "      <th>category</th>\n",
       "      <th>gender</th>\n",
       "      <th>consumer_lifestage</th>\n",
       "    </tr>\n",
       "  </thead>\n",
       "  <tbody>\n",
       "    <tr>\n",
       "      <th>0</th>\n",
       "      <td>2022-05-12 11:25:23.935453</td>\n",
       "      <td>zalando</td>\n",
       "      <td>zalando</td>\n",
       "      <td>DE</td>\n",
       "      <td>https://www.zalando.de/pier-one-rena-espadrill...</td>\n",
       "      <td>SHOES</td>\n",
       "      <td>MALE</td>\n",
       "      <td>ADULT</td>\n",
       "    </tr>\n",
       "    <tr>\n",
       "      <th>1</th>\n",
       "      <td>2022-05-12 11:25:23.935453</td>\n",
       "      <td>zalando</td>\n",
       "      <td>zalando</td>\n",
       "      <td>DE</td>\n",
       "      <td>https://www.zalando.de/tommy-hilfiger-solid-fl...</td>\n",
       "      <td>SWIMMWEAR</td>\n",
       "      <td>MALE</td>\n",
       "      <td>ADULT</td>\n",
       "    </tr>\n",
       "    <tr>\n",
       "      <th>2</th>\n",
       "      <td>2022-05-12 11:25:23.935453</td>\n",
       "      <td>zalando</td>\n",
       "      <td>zalando</td>\n",
       "      <td>DE</td>\n",
       "      <td>https://www.zalando.de/canda-nachtwaesche-hose...</td>\n",
       "      <td>NIGHTWEAR</td>\n",
       "      <td>MALE</td>\n",
       "      <td>ADULT</td>\n",
       "    </tr>\n",
       "    <tr>\n",
       "      <th>3</th>\n",
       "      <td>2022-05-12 11:25:23.935453</td>\n",
       "      <td>zalando</td>\n",
       "      <td>zalando</td>\n",
       "      <td>DE</td>\n",
       "      <td>https://www.zalando.de/adidas-originals-3-pack...</td>\n",
       "      <td>UNDERWEAR</td>\n",
       "      <td>MALE</td>\n",
       "      <td>ADULT</td>\n",
       "    </tr>\n",
       "    <tr>\n",
       "      <th>4</th>\n",
       "      <td>2022-05-12 11:25:23.935453</td>\n",
       "      <td>zalando</td>\n",
       "      <td>zalando</td>\n",
       "      <td>DE</td>\n",
       "      <td>https://www.zalando.de/pier-one-jogginghose-da...</td>\n",
       "      <td>TRACKSUIT</td>\n",
       "      <td>MALE</td>\n",
       "      <td>ADULT</td>\n",
       "    </tr>\n",
       "    <tr>\n",
       "      <th>...</th>\n",
       "      <td>...</td>\n",
       "      <td>...</td>\n",
       "      <td>...</td>\n",
       "      <td>...</td>\n",
       "      <td>...</td>\n",
       "      <td>...</td>\n",
       "      <td>...</td>\n",
       "      <td>...</td>\n",
       "    </tr>\n",
       "    <tr>\n",
       "      <th>1558</th>\n",
       "      <td>2022-06-08 19:07:23.935453</td>\n",
       "      <td>asos</td>\n",
       "      <td>asos</td>\n",
       "      <td>FR</td>\n",
       "      <td>https://www.asos.com/api/product/catalogue/v3/...</td>\n",
       "      <td>SHIRT</td>\n",
       "      <td>FEMALE</td>\n",
       "      <td>ADULT</td>\n",
       "    </tr>\n",
       "    <tr>\n",
       "      <th>1559</th>\n",
       "      <td>2022-06-08 19:07:23.935453</td>\n",
       "      <td>asos</td>\n",
       "      <td>asos</td>\n",
       "      <td>FR</td>\n",
       "      <td>https://www.asos.com/api/product/catalogue/v3/...</td>\n",
       "      <td>SHIRT</td>\n",
       "      <td>FEMALE</td>\n",
       "      <td>ADULT</td>\n",
       "    </tr>\n",
       "    <tr>\n",
       "      <th>1560</th>\n",
       "      <td>2022-06-08 19:07:23.935453</td>\n",
       "      <td>asos</td>\n",
       "      <td>asos</td>\n",
       "      <td>FR</td>\n",
       "      <td>https://www.asos.com/api/product/catalogue/v3/...</td>\n",
       "      <td>SHIRT</td>\n",
       "      <td>FEMALE</td>\n",
       "      <td>ADULT</td>\n",
       "    </tr>\n",
       "    <tr>\n",
       "      <th>1561</th>\n",
       "      <td>2022-06-08 19:07:23.935453</td>\n",
       "      <td>asos</td>\n",
       "      <td>asos</td>\n",
       "      <td>FR</td>\n",
       "      <td>https://www.asos.com/api/product/catalogue/v3/...</td>\n",
       "      <td>SHIRT</td>\n",
       "      <td>FEMALE</td>\n",
       "      <td>ADULT</td>\n",
       "    </tr>\n",
       "    <tr>\n",
       "      <th>1562</th>\n",
       "      <td>2022-06-08 19:07:23.935453</td>\n",
       "      <td>asos</td>\n",
       "      <td>asos</td>\n",
       "      <td>FR</td>\n",
       "      <td>https://www.asos.com/api/product/catalogue/v3/...</td>\n",
       "      <td>SHIRT</td>\n",
       "      <td>FEMALE</td>\n",
       "      <td>ADULT</td>\n",
       "    </tr>\n",
       "  </tbody>\n",
       "</table>\n",
       "<p>30393 rows × 8 columns</p>\n",
       "</div>"
      ],
      "text/plain": [
       "                      timestamp   source merchant country  \\\n",
       "0    2022-05-12 11:25:23.935453  zalando  zalando      DE   \n",
       "1    2022-05-12 11:25:23.935453  zalando  zalando      DE   \n",
       "2    2022-05-12 11:25:23.935453  zalando  zalando      DE   \n",
       "3    2022-05-12 11:25:23.935453  zalando  zalando      DE   \n",
       "4    2022-05-12 11:25:23.935453  zalando  zalando      DE   \n",
       "...                         ...      ...      ...     ...   \n",
       "1558 2022-06-08 19:07:23.935453     asos     asos      FR   \n",
       "1559 2022-06-08 19:07:23.935453     asos     asos      FR   \n",
       "1560 2022-06-08 19:07:23.935453     asos     asos      FR   \n",
       "1561 2022-06-08 19:07:23.935453     asos     asos      FR   \n",
       "1562 2022-06-08 19:07:23.935453     asos     asos      FR   \n",
       "\n",
       "                                                    url   category  gender  \\\n",
       "0     https://www.zalando.de/pier-one-rena-espadrill...      SHOES    MALE   \n",
       "1     https://www.zalando.de/tommy-hilfiger-solid-fl...  SWIMMWEAR    MALE   \n",
       "2     https://www.zalando.de/canda-nachtwaesche-hose...  NIGHTWEAR    MALE   \n",
       "3     https://www.zalando.de/adidas-originals-3-pack...  UNDERWEAR    MALE   \n",
       "4     https://www.zalando.de/pier-one-jogginghose-da...  TRACKSUIT    MALE   \n",
       "...                                                 ...        ...     ...   \n",
       "1558  https://www.asos.com/api/product/catalogue/v3/...      SHIRT  FEMALE   \n",
       "1559  https://www.asos.com/api/product/catalogue/v3/...      SHIRT  FEMALE   \n",
       "1560  https://www.asos.com/api/product/catalogue/v3/...      SHIRT  FEMALE   \n",
       "1561  https://www.asos.com/api/product/catalogue/v3/...      SHIRT  FEMALE   \n",
       "1562  https://www.asos.com/api/product/catalogue/v3/...      SHIRT  FEMALE   \n",
       "\n",
       "     consumer_lifestage  \n",
       "0                 ADULT  \n",
       "1                 ADULT  \n",
       "2                 ADULT  \n",
       "3                 ADULT  \n",
       "4                 ADULT  \n",
       "...                 ...  \n",
       "1558              ADULT  \n",
       "1559              ADULT  \n",
       "1560              ADULT  \n",
       "1561              ADULT  \n",
       "1562              ADULT  \n",
       "\n",
       "[30393 rows x 8 columns]"
      ]
     },
     "execution_count": 8,
     "metadata": {},
     "output_type": "execute_result"
    }
   ],
   "source": [
    "all_scraping_products"
   ]
  },
  {
   "cell_type": "code",
   "execution_count": null,
   "id": "5e1d1462",
   "metadata": {},
   "outputs": [],
   "source": [
    "# if kernel dies it might be good to have stored the df locally\n",
    "#all_products.to_parquet(\"../data/products-meta-2022-06-13.parquet\", index=False) #TODO"
   ]
  },
  {
   "cell_type": "code",
   "execution_count": 10,
   "id": "238f8565",
   "metadata": {},
   "outputs": [
    {
     "data": {
      "text/plain": [
       "timestamp                0\n",
       "source                   0\n",
       "merchant                 0\n",
       "country                  0\n",
       "url                      0\n",
       "category                 0\n",
       "gender                1256\n",
       "consumer_lifestage    1256\n",
       "dtype: int64"
      ]
     },
     "execution_count": 10,
     "metadata": {},
     "output_type": "execute_result"
    }
   ],
   "source": [
    "all_scraping_products.isna().sum()"
   ]
  },
  {
   "cell_type": "code",
   "execution_count": 11,
   "id": "b1548e3d",
   "metadata": {},
   "outputs": [
    {
     "data": {
      "text/plain": [
       "hm         20551\n",
       "otto        3918\n",
       "zalando     3867\n",
       "asos        1563\n",
       "amazon       494\n",
       "Name: merchant, dtype: int64"
      ]
     },
     "execution_count": 11,
     "metadata": {},
     "output_type": "execute_result"
    }
   ],
   "source": [
    "all_scraping_products[\"merchant\"].value_counts() #less count than in scraping table because we do not load SERPs"
   ]
  },
  {
   "cell_type": "code",
   "execution_count": 12,
   "id": "937f5d23",
   "metadata": {},
   "outputs": [
    {
     "data": {
      "text/html": [
       "<div>\n",
       "<style scoped>\n",
       "    .dataframe tbody tr th:only-of-type {\n",
       "        vertical-align: middle;\n",
       "    }\n",
       "\n",
       "    .dataframe tbody tr th {\n",
       "        vertical-align: top;\n",
       "    }\n",
       "\n",
       "    .dataframe thead th {\n",
       "        text-align: right;\n",
       "    }\n",
       "</style>\n",
       "<table border=\"1\" class=\"dataframe\">\n",
       "  <thead>\n",
       "    <tr style=\"text-align: right;\">\n",
       "      <th></th>\n",
       "      <th>timestamp</th>\n",
       "      <th>source</th>\n",
       "      <th>merchant</th>\n",
       "      <th>country</th>\n",
       "      <th>url</th>\n",
       "      <th>category</th>\n",
       "      <th>gender</th>\n",
       "      <th>consumer_lifestage</th>\n",
       "    </tr>\n",
       "  </thead>\n",
       "  <tbody>\n",
       "    <tr>\n",
       "      <th>0</th>\n",
       "      <td>2022-05-12 11:25:23.935453</td>\n",
       "      <td>zalando</td>\n",
       "      <td>zalando</td>\n",
       "      <td>DE</td>\n",
       "      <td>https://www.zalando.de/pier-one-rena-espadrill...</td>\n",
       "      <td>SHOES</td>\n",
       "      <td>MALE</td>\n",
       "      <td>ADULT</td>\n",
       "    </tr>\n",
       "    <tr>\n",
       "      <th>1</th>\n",
       "      <td>2022-05-12 11:25:23.935453</td>\n",
       "      <td>zalando</td>\n",
       "      <td>zalando</td>\n",
       "      <td>DE</td>\n",
       "      <td>https://www.zalando.de/tommy-hilfiger-solid-fl...</td>\n",
       "      <td>SWIMMWEAR</td>\n",
       "      <td>MALE</td>\n",
       "      <td>ADULT</td>\n",
       "    </tr>\n",
       "  </tbody>\n",
       "</table>\n",
       "</div>"
      ],
      "text/plain": [
       "                   timestamp   source merchant country  \\\n",
       "0 2022-05-12 11:25:23.935453  zalando  zalando      DE   \n",
       "1 2022-05-12 11:25:23.935453  zalando  zalando      DE   \n",
       "\n",
       "                                                 url   category gender  \\\n",
       "0  https://www.zalando.de/pier-one-rena-espadrill...      SHOES   MALE   \n",
       "1  https://www.zalando.de/tommy-hilfiger-solid-fl...  SWIMMWEAR   MALE   \n",
       "\n",
       "  consumer_lifestage  \n",
       "0              ADULT  \n",
       "1              ADULT  "
      ]
     },
     "execution_count": 12,
     "metadata": {},
     "output_type": "execute_result"
    }
   ],
   "source": [
    "all_scraping_products.head(n=2)"
   ]
  },
  {
   "cell_type": "markdown",
   "id": "a4fb608e",
   "metadata": {},
   "source": [
    "## 6.2 load old greendb table"
   ]
  },
  {
   "cell_type": "code",
   "execution_count": 13,
   "id": "ff246eab",
   "metadata": {
    "scrolled": true
   },
   "outputs": [],
   "source": [
    "from database.tables import GreenDBBaseTable, __TableMixin\n",
    "from sqlalchemy import ARRAY, BIGINT, INTEGER, JSON, NUMERIC, TEXT, TIMESTAMP, VARCHAR, Column\n",
    "\n",
    "from datetime import datetime\n",
    "from enum import Enum\n",
    "from typing import List, Optional\n",
    "\n",
    "from pydantic import BaseModel, conint, conlist\n",
    "\n",
    "from core.sustainability_labels import create_CertificateType\n",
    "\n",
    "CertificateType = create_CertificateType()\n",
    "\n",
    "\n",
    "class GreenDBTableOld(GreenDBBaseTable, __TableMixin):\n",
    "    \"\"\"\n",
    "    Defines the GreenDB columns.\n",
    "\n",
    "    Args:\n",
    "        GreenDBBaseTable ([type]): `sqlalchemy` base class for the GreenDB database\n",
    "        __TableMixin ([type]): Mixin that implements some convenience methods\n",
    "    \"\"\"\n",
    "\n",
    "    __tablename__ = \"green-db-backup\" #TODO\n",
    "\n",
    "    id = Column(INTEGER, nullable=False, autoincrement=True, primary_key=True)\n",
    "    timestamp = Column(TIMESTAMP, nullable=False)\n",
    "    merchant = Column(TEXT, nullable=False)\n",
    "    category = Column(TEXT, nullable=False)\n",
    "    url = Column(TEXT, nullable=False)\n",
    "    name = Column(TEXT, nullable=False)\n",
    "    description = Column(TEXT, nullable=False)\n",
    "    brand = Column(TEXT, nullable=False)\n",
    "    sustainability_labels = Column(ARRAY(TEXT), nullable=False)  # TODO foreign keys to labels\n",
    "    price = Column(NUMERIC, nullable=False)\n",
    "    currency = Column(TEXT, nullable=False)\n",
    "    image_urls = Column(ARRAY(TEXT), nullable=False)\n",
    "\n",
    "    color = Column(TEXT, nullable=True)\n",
    "    size = Column(TEXT, nullable=True)\n",
    "\n",
    "    gtin = Column(BIGINT, nullable=True)\n",
    "    asin = Column(TEXT, nullable=True)\n",
    "    \n",
    "class CurrencyType(str, Enum):\n",
    "    EUR = \"EUR\"\n",
    "    GBP = \"GBP\"\n",
    "    \n",
    "class Productold(BaseModel):\n",
    "    timestamp: datetime\n",
    "    url: str\n",
    "    merchant: str\n",
    "    category: str\n",
    "    name: str\n",
    "    description: str\n",
    "    brand: str\n",
    "    sustainability_labels: conlist(CertificateType, min_items=1)  # type: ignore\n",
    "    price: float\n",
    "    currency: CurrencyType\n",
    "    image_urls: List[str]\n",
    "\n",
    "    color: Optional[str]\n",
    "    size: Optional[str]\n",
    "\n",
    "    # int, source: https://support.google.com/merchants/answer/6219078?hl=en\n",
    "    gtin: Optional[int]\n",
    "\n",
    "    # str because alpha numeric\n",
    "    # source: https://en.wikipedia.org/wiki/Amazon_Standard_Identification_Number\n",
    "    asin: Optional[str]\n",
    "\n",
    "    class Config:\n",
    "        orm_mode = True\n",
    "        use_enum_values = True"
   ]
  },
  {
   "cell_type": "code",
   "execution_count": 14,
   "id": "fc58f901",
   "metadata": {},
   "outputs": [],
   "source": [
    "from database.connection import Connection\n",
    "from core.constants import DATABASE_NAME_GREEN_DB\n",
    "from database.tables import SustainabilityLabelsTable\n",
    "from typing import Iterator\n",
    "from core.domain import Product\n",
    "\n",
    "class GreenDBold(Connection):\n",
    "    def __init__(self) -> None:\n",
    "        \"\"\"\n",
    "        `Connection` for the GreenDB.\n",
    "        Automatically pre-populates the sustainability labels table.\n",
    "        \"\"\"\n",
    "        super().__init__(GreenDBTableOld, DATABASE_NAME_GREEN_DB)\n",
    "    \n",
    "    def get_all_products(self, batch_size: int = 10000) -> Iterator[Product]:\n",
    "        \"\"\"\n",
    "        Fetch all `Products`.\n",
    "\n",
    "        Args:            \n",
    "            batch_size (int, optional): How many rows to fetch simultaneously. Defaults to 1000.\n",
    "\n",
    "        Yields:\n",
    "            Iterator[ScrapedPage]: Iterator over the domain object representations\n",
    "        \"\"\"\n",
    "        with self._session_factory() as db_session:\n",
    "            query = db_session.query(self._database_class)\n",
    "            return (Productold.from_orm(row) for row in query.all())"
   ]
  },
  {
   "cell_type": "code",
   "execution_count": 15,
   "id": "776e8619",
   "metadata": {},
   "outputs": [
    {
     "data": {
      "text/plain": [
       "(29057, 15)"
      ]
     },
     "execution_count": 15,
     "metadata": {},
     "output_type": "execute_result"
    }
   ],
   "source": [
    "greenDBold = GreenDBold()\n",
    "\n",
    "products_iterator = greenDBold.get_all_products()\n",
    "greenDBproducts = pd.DataFrame([product.__dict__ for product in products_iterator])\n",
    "greenDBproducts.shape"
   ]
  },
  {
   "cell_type": "code",
   "execution_count": 16,
   "id": "eb34144f",
   "metadata": {},
   "outputs": [
    {
     "data": {
      "text/html": [
       "<div>\n",
       "<style scoped>\n",
       "    .dataframe tbody tr th:only-of-type {\n",
       "        vertical-align: middle;\n",
       "    }\n",
       "\n",
       "    .dataframe tbody tr th {\n",
       "        vertical-align: top;\n",
       "    }\n",
       "\n",
       "    .dataframe thead th {\n",
       "        text-align: right;\n",
       "    }\n",
       "</style>\n",
       "<table border=\"1\" class=\"dataframe\">\n",
       "  <thead>\n",
       "    <tr style=\"text-align: right;\">\n",
       "      <th></th>\n",
       "      <th>timestamp</th>\n",
       "      <th>url</th>\n",
       "      <th>merchant</th>\n",
       "      <th>category</th>\n",
       "      <th>name</th>\n",
       "      <th>description</th>\n",
       "      <th>brand</th>\n",
       "      <th>sustainability_labels</th>\n",
       "      <th>price</th>\n",
       "      <th>currency</th>\n",
       "      <th>image_urls</th>\n",
       "      <th>color</th>\n",
       "      <th>size</th>\n",
       "      <th>gtin</th>\n",
       "      <th>asin</th>\n",
       "    </tr>\n",
       "  </thead>\n",
       "  <tbody>\n",
       "    <tr>\n",
       "      <th>0</th>\n",
       "      <td>2022-05-12 00:01:23.935453</td>\n",
       "      <td>https://www2.hm.com/fr_fr/productpage.09656770...</td>\n",
       "      <td>hm</td>\n",
       "      <td>TSHIRT</td>\n",
       "      <td>T-shirt court</td>\n",
       "      <td>T-shirt court en jersey de coton avec texte to...</td>\n",
       "      <td>H&amp;M</td>\n",
       "      <td>[certificate:OTHER]</td>\n",
       "      <td>5.99</td>\n",
       "      <td>EUR</td>\n",
       "      <td>[//lp2.hm.com/hmgoepprod?set=quality%5B79%5D%2...</td>\n",
       "      <td>Vert clair</td>\n",
       "      <td>None</td>\n",
       "      <td>NaN</td>\n",
       "      <td>None</td>\n",
       "    </tr>\n",
       "    <tr>\n",
       "      <th>1</th>\n",
       "      <td>2022-05-12 00:01:23.935453</td>\n",
       "      <td>https://www2.hm.com/fr_fr/productpage.09790710...</td>\n",
       "      <td>hm</td>\n",
       "      <td>TSHIRT</td>\n",
       "      <td>T-shirt oversize</td>\n",
       "      <td>T-shirt oversize en jersey doux. Modèle avec e...</td>\n",
       "      <td>H&amp;M</td>\n",
       "      <td>[certificate:OTHER]</td>\n",
       "      <td>14.99</td>\n",
       "      <td>EUR</td>\n",
       "      <td>[//lp2.hm.com/hmgoepprod?set=quality%5B79%5D%2...</td>\n",
       "      <td>Noir</td>\n",
       "      <td>None</td>\n",
       "      <td>NaN</td>\n",
       "      <td>None</td>\n",
       "    </tr>\n",
       "  </tbody>\n",
       "</table>\n",
       "</div>"
      ],
      "text/plain": [
       "                   timestamp  \\\n",
       "0 2022-05-12 00:01:23.935453   \n",
       "1 2022-05-12 00:01:23.935453   \n",
       "\n",
       "                                                 url merchant category  \\\n",
       "0  https://www2.hm.com/fr_fr/productpage.09656770...       hm   TSHIRT   \n",
       "1  https://www2.hm.com/fr_fr/productpage.09790710...       hm   TSHIRT   \n",
       "\n",
       "               name                                        description brand  \\\n",
       "0     T-shirt court  T-shirt court en jersey de coton avec texte to...   H&M   \n",
       "1  T-shirt oversize  T-shirt oversize en jersey doux. Modèle avec e...   H&M   \n",
       "\n",
       "  sustainability_labels  price currency  \\\n",
       "0   [certificate:OTHER]   5.99      EUR   \n",
       "1   [certificate:OTHER]  14.99      EUR   \n",
       "\n",
       "                                          image_urls       color  size  gtin  \\\n",
       "0  [//lp2.hm.com/hmgoepprod?set=quality%5B79%5D%2...  Vert clair  None   NaN   \n",
       "1  [//lp2.hm.com/hmgoepprod?set=quality%5B79%5D%2...        Noir  None   NaN   \n",
       "\n",
       "   asin  \n",
       "0  None  \n",
       "1  None  "
      ]
     },
     "execution_count": 16,
     "metadata": {},
     "output_type": "execute_result"
    }
   ],
   "source": [
    "greenDBproducts.head(n=2)"
   ]
  },
  {
   "cell_type": "markdown",
   "id": "004d825f",
   "metadata": {},
   "source": [
    "\n",
    "## 6.3 merge scraping and greendb (except asos)"
   ]
  },
  {
   "cell_type": "code",
   "execution_count": 17,
   "id": "4c65fb76",
   "metadata": {},
   "outputs": [],
   "source": [
    "#store asos seperately\n",
    "scraping_asos = all_scraping_products[all_scraping_products[\"merchant\"]==\"asos\"]"
   ]
  },
  {
   "cell_type": "code",
   "execution_count": 18,
   "id": "2dc89d15",
   "metadata": {},
   "outputs": [],
   "source": [
    "#prep index for joining\n",
    "\n",
    "tuples = list(zip(all_scraping_products['timestamp'], all_scraping_products['url'], all_scraping_products['category']))\n",
    "index = pd.MultiIndex.from_tuples(tuples, names=[\"timestamp\", \"url\", \"category\"])\n",
    "\n",
    "all_scraping_products.index = index"
   ]
  },
  {
   "cell_type": "code",
   "execution_count": 19,
   "id": "253d15d3",
   "metadata": {
    "scrolled": true
   },
   "outputs": [],
   "source": [
    "# remove unwanted columns\n",
    "all_scraping_products = all_scraping_products[[\"source\", \"country\", \"gender\", \"consumer_lifestage\"]]"
   ]
  },
  {
   "cell_type": "code",
   "execution_count": 20,
   "id": "a55741c9",
   "metadata": {},
   "outputs": [
    {
     "data": {
      "text/html": [
       "<div>\n",
       "<style scoped>\n",
       "    .dataframe tbody tr th:only-of-type {\n",
       "        vertical-align: middle;\n",
       "    }\n",
       "\n",
       "    .dataframe tbody tr th {\n",
       "        vertical-align: top;\n",
       "    }\n",
       "\n",
       "    .dataframe thead th {\n",
       "        text-align: right;\n",
       "    }\n",
       "</style>\n",
       "<table border=\"1\" class=\"dataframe\">\n",
       "  <thead>\n",
       "    <tr style=\"text-align: right;\">\n",
       "      <th></th>\n",
       "      <th></th>\n",
       "      <th></th>\n",
       "      <th>source</th>\n",
       "      <th>country</th>\n",
       "      <th>gender</th>\n",
       "      <th>consumer_lifestage</th>\n",
       "    </tr>\n",
       "    <tr>\n",
       "      <th>timestamp</th>\n",
       "      <th>url</th>\n",
       "      <th>category</th>\n",
       "      <th></th>\n",
       "      <th></th>\n",
       "      <th></th>\n",
       "      <th></th>\n",
       "    </tr>\n",
       "  </thead>\n",
       "  <tbody>\n",
       "    <tr>\n",
       "      <th rowspan=\"2\" valign=\"top\">2022-05-12 11:25:23.935453</th>\n",
       "      <th>https://www.zalando.de/pier-one-rena-espadrille-espadrille-beige-pi915c000-b11.html</th>\n",
       "      <th>SHOES</th>\n",
       "      <td>zalando</td>\n",
       "      <td>DE</td>\n",
       "      <td>MALE</td>\n",
       "      <td>ADULT</td>\n",
       "    </tr>\n",
       "    <tr>\n",
       "      <th>https://www.zalando.de/tommy-hilfiger-solid-flag-drawstring-badeshorts-blue-to182h03k-q11.html</th>\n",
       "      <th>SWIMMWEAR</th>\n",
       "      <td>zalando</td>\n",
       "      <td>DE</td>\n",
       "      <td>MALE</td>\n",
       "      <td>ADULT</td>\n",
       "    </tr>\n",
       "  </tbody>\n",
       "</table>\n",
       "</div>"
      ],
      "text/plain": [
       "                                                                                          source  \\\n",
       "timestamp                  url                                                category             \n",
       "2022-05-12 11:25:23.935453 https://www.zalando.de/pier-one-rena-espadrille... SHOES      zalando   \n",
       "                           https://www.zalando.de/tommy-hilfiger-solid-fla... SWIMMWEAR  zalando   \n",
       "\n",
       "                                                                                        country  \\\n",
       "timestamp                  url                                                category            \n",
       "2022-05-12 11:25:23.935453 https://www.zalando.de/pier-one-rena-espadrille... SHOES          DE   \n",
       "                           https://www.zalando.de/tommy-hilfiger-solid-fla... SWIMMWEAR      DE   \n",
       "\n",
       "                                                                                        gender  \\\n",
       "timestamp                  url                                                category           \n",
       "2022-05-12 11:25:23.935453 https://www.zalando.de/pier-one-rena-espadrille... SHOES       MALE   \n",
       "                           https://www.zalando.de/tommy-hilfiger-solid-fla... SWIMMWEAR   MALE   \n",
       "\n",
       "                                                                                        consumer_lifestage  \n",
       "timestamp                  url                                                category                      \n",
       "2022-05-12 11:25:23.935453 https://www.zalando.de/pier-one-rena-espadrille... SHOES                  ADULT  \n",
       "                           https://www.zalando.de/tommy-hilfiger-solid-fla... SWIMMWEAR              ADULT  "
      ]
     },
     "execution_count": 20,
     "metadata": {},
     "output_type": "execute_result"
    }
   ],
   "source": [
    "all_scraping_products.head(n=2)"
   ]
  },
  {
   "cell_type": "code",
   "execution_count": 21,
   "id": "0c455569",
   "metadata": {
    "scrolled": false
   },
   "outputs": [
    {
     "data": {
      "text/html": [
       "<div>\n",
       "<style scoped>\n",
       "    .dataframe tbody tr th:only-of-type {\n",
       "        vertical-align: middle;\n",
       "    }\n",
       "\n",
       "    .dataframe tbody tr th {\n",
       "        vertical-align: top;\n",
       "    }\n",
       "\n",
       "    .dataframe thead th {\n",
       "        text-align: right;\n",
       "    }\n",
       "</style>\n",
       "<table border=\"1\" class=\"dataframe\">\n",
       "  <thead>\n",
       "    <tr style=\"text-align: right;\">\n",
       "      <th></th>\n",
       "      <th>timestamp</th>\n",
       "      <th>url</th>\n",
       "      <th>merchant</th>\n",
       "      <th>category</th>\n",
       "      <th>name</th>\n",
       "      <th>description</th>\n",
       "      <th>brand</th>\n",
       "      <th>sustainability_labels</th>\n",
       "      <th>price</th>\n",
       "      <th>currency</th>\n",
       "      <th>image_urls</th>\n",
       "      <th>color</th>\n",
       "      <th>size</th>\n",
       "      <th>gtin</th>\n",
       "      <th>asin</th>\n",
       "      <th>source</th>\n",
       "      <th>country</th>\n",
       "      <th>gender</th>\n",
       "      <th>consumer_lifestage</th>\n",
       "    </tr>\n",
       "  </thead>\n",
       "  <tbody>\n",
       "    <tr>\n",
       "      <th>0</th>\n",
       "      <td>2022-05-12 00:01:23.935453</td>\n",
       "      <td>https://www2.hm.com/fr_fr/productpage.09656770...</td>\n",
       "      <td>hm</td>\n",
       "      <td>TSHIRT</td>\n",
       "      <td>T-shirt court</td>\n",
       "      <td>T-shirt court en jersey de coton avec texte to...</td>\n",
       "      <td>H&amp;M</td>\n",
       "      <td>[certificate:OTHER]</td>\n",
       "      <td>5.99</td>\n",
       "      <td>EUR</td>\n",
       "      <td>[//lp2.hm.com/hmgoepprod?set=quality%5B79%5D%2...</td>\n",
       "      <td>Vert clair</td>\n",
       "      <td>None</td>\n",
       "      <td>NaN</td>\n",
       "      <td>None</td>\n",
       "      <td>hm</td>\n",
       "      <td>FR</td>\n",
       "      <td>FEMALE</td>\n",
       "      <td>ADULT</td>\n",
       "    </tr>\n",
       "    <tr>\n",
       "      <th>1</th>\n",
       "      <td>2022-05-12 00:01:23.935453</td>\n",
       "      <td>https://www2.hm.com/fr_fr/productpage.09790710...</td>\n",
       "      <td>hm</td>\n",
       "      <td>TSHIRT</td>\n",
       "      <td>T-shirt oversize</td>\n",
       "      <td>T-shirt oversize en jersey doux. Modèle avec e...</td>\n",
       "      <td>H&amp;M</td>\n",
       "      <td>[certificate:OTHER]</td>\n",
       "      <td>14.99</td>\n",
       "      <td>EUR</td>\n",
       "      <td>[//lp2.hm.com/hmgoepprod?set=quality%5B79%5D%2...</td>\n",
       "      <td>Noir</td>\n",
       "      <td>None</td>\n",
       "      <td>NaN</td>\n",
       "      <td>None</td>\n",
       "      <td>hm</td>\n",
       "      <td>FR</td>\n",
       "      <td>FEMALE</td>\n",
       "      <td>ADULT</td>\n",
       "    </tr>\n",
       "  </tbody>\n",
       "</table>\n",
       "</div>"
      ],
      "text/plain": [
       "                   timestamp  \\\n",
       "0 2022-05-12 00:01:23.935453   \n",
       "1 2022-05-12 00:01:23.935453   \n",
       "\n",
       "                                                 url merchant category  \\\n",
       "0  https://www2.hm.com/fr_fr/productpage.09656770...       hm   TSHIRT   \n",
       "1  https://www2.hm.com/fr_fr/productpage.09790710...       hm   TSHIRT   \n",
       "\n",
       "               name                                        description brand  \\\n",
       "0     T-shirt court  T-shirt court en jersey de coton avec texte to...   H&M   \n",
       "1  T-shirt oversize  T-shirt oversize en jersey doux. Modèle avec e...   H&M   \n",
       "\n",
       "  sustainability_labels  price currency  \\\n",
       "0   [certificate:OTHER]   5.99      EUR   \n",
       "1   [certificate:OTHER]  14.99      EUR   \n",
       "\n",
       "                                          image_urls       color  size  gtin  \\\n",
       "0  [//lp2.hm.com/hmgoepprod?set=quality%5B79%5D%2...  Vert clair  None   NaN   \n",
       "1  [//lp2.hm.com/hmgoepprod?set=quality%5B79%5D%2...        Noir  None   NaN   \n",
       "\n",
       "   asin source country  gender consumer_lifestage  \n",
       "0  None     hm      FR  FEMALE              ADULT  \n",
       "1  None     hm      FR  FEMALE              ADULT  "
      ]
     },
     "execution_count": 21,
     "metadata": {},
     "output_type": "execute_result"
    }
   ],
   "source": [
    "joined = greenDBproducts.join(all_scraping_products, on=['timestamp', 'url', 'category'])\n",
    "joined.head(n=2)"
   ]
  },
  {
   "cell_type": "code",
   "execution_count": 22,
   "id": "57c27b63",
   "metadata": {},
   "outputs": [
    {
     "data": {
      "text/plain": [
       "(29005, 19)"
      ]
     },
     "execution_count": 22,
     "metadata": {},
     "output_type": "execute_result"
    }
   ],
   "source": [
    "# remove duplicates due to joining\n",
    "\n",
    "# the shops might list products in multiple categories which we have just assigned to one category\n",
    "# this creates duplicate extracted products\n",
    "# so joining the df, using just timestamp, url and catgeory (green-db specific category) \n",
    "# we can not fully map instancs from scraping table to green-db table\n",
    "# but for including gender information this is not necessary.\n",
    "# If we have multiple products with same url and different categories assigned to different genders\n",
    "# the extracted products are just duplicates of each other, \n",
    "# because the product is basically a UNISEX product assigned to multiple categories\n",
    "\n",
    "joined_deduplicated = joined.drop_duplicates(subset=['timestamp', 'url', 'source', 'merchant', 'category', 'gender', 'consumer_lifestage'])\n",
    "joined_deduplicated.shape"
   ]
  },
  {
   "cell_type": "code",
   "execution_count": 23,
   "id": "f9e72f5d",
   "metadata": {},
   "outputs": [
    {
     "data": {
      "text/plain": [
       "hm            19854\n",
       "otto           3849\n",
       "zalando_uk     2543\n",
       "zalando_fr     1239\n",
       "asos            979\n",
       "amazon          494\n",
       "zalando          47\n",
       "Name: merchant, dtype: int64"
      ]
     },
     "execution_count": 23,
     "metadata": {},
     "output_type": "execute_result"
    }
   ],
   "source": [
    "joined_deduplicated.merchant.value_counts()"
   ]
  },
  {
   "cell_type": "code",
   "execution_count": 24,
   "id": "109e8ab7",
   "metadata": {},
   "outputs": [
    {
     "data": {
      "text/plain": [
       "timestamp                    0\n",
       "url                          0\n",
       "merchant                     0\n",
       "category                     0\n",
       "name                         0\n",
       "description                  0\n",
       "brand                        0\n",
       "sustainability_labels        0\n",
       "price                        0\n",
       "currency                     0\n",
       "image_urls                   0\n",
       "color                     4156\n",
       "size                     17691\n",
       "gtin                     25233\n",
       "asin                     28528\n",
       "source                     979\n",
       "country                    979\n",
       "gender                    2228\n",
       "consumer_lifestage        2228\n",
       "dtype: int64"
      ]
     },
     "execution_count": 24,
     "metadata": {},
     "output_type": "execute_result"
    }
   ],
   "source": [
    "#check null values. Only color, size, gender, consumer_lifestage, gtin and asin should have null values!\n",
    "# null values in source, country gender and consumer_lifestage are due to asos\n",
    "joined_deduplicated.isna().sum()"
   ]
  },
  {
   "cell_type": "code",
   "execution_count": 25,
   "id": "af8b2d44",
   "metadata": {},
   "outputs": [
    {
     "data": {
      "text/plain": [
       "(2142, 19)"
      ]
     },
     "execution_count": 25,
     "metadata": {},
     "output_type": "execute_result"
    }
   ],
   "source": [
    "# amount of None encapsulated as string (will be transformed later)\n",
    "joined_deduplicated[joined_deduplicated[\"size\"]==\"None\"].shape"
   ]
  },
  {
   "cell_type": "code",
   "execution_count": 26,
   "id": "dbab11c7",
   "metadata": {},
   "outputs": [
    {
     "data": {
      "text/plain": [
       "(28026, 19)"
      ]
     },
     "execution_count": 26,
     "metadata": {},
     "output_type": "execute_result"
    }
   ],
   "source": [
    "#remove asos\n",
    "joined_deduplicated = joined_deduplicated[joined_deduplicated[\"merchant\"]!=\"asos\"]\n",
    "joined_deduplicated.shape"
   ]
  },
  {
   "cell_type": "code",
   "execution_count": 27,
   "id": "efd39274",
   "metadata": {},
   "outputs": [
    {
     "data": {
      "text/plain": [
       "timestamp                    0\n",
       "url                          0\n",
       "merchant                     0\n",
       "category                     0\n",
       "name                         0\n",
       "description                  0\n",
       "brand                        0\n",
       "sustainability_labels        0\n",
       "price                        0\n",
       "currency                     0\n",
       "image_urls                   0\n",
       "color                     4156\n",
       "size                     17691\n",
       "gtin                     24254\n",
       "asin                     27549\n",
       "source                       0\n",
       "country                      0\n",
       "gender                    1249\n",
       "consumer_lifestage        1249\n",
       "dtype: int64"
      ]
     },
     "execution_count": 27,
     "metadata": {},
     "output_type": "execute_result"
    }
   ],
   "source": [
    "# null values without asos\n",
    "# only color, size, gtin, asin should be null now\n",
    "joined_deduplicated.isna().sum()"
   ]
  },
  {
   "cell_type": "markdown",
   "id": "5fc0816c",
   "metadata": {},
   "source": [
    "## 6.4 join asos exclusively"
   ]
  },
  {
   "cell_type": "code",
   "execution_count": 28,
   "id": "c2dfa844",
   "metadata": {},
   "outputs": [],
   "source": [
    "greendb_asos = greenDBproducts[greenDBproducts[\"merchant\"]==\"asos\"]"
   ]
  },
  {
   "cell_type": "code",
   "execution_count": 29,
   "id": "76eb22aa",
   "metadata": {},
   "outputs": [
    {
     "name": "stderr",
     "output_type": "stream",
     "text": [
      "C:\\Users\\Alex\\AppData\\Local\\Temp\\ipykernel_12192\\282319375.py:1: SettingWithCopyWarning: \n",
      "A value is trying to be set on a copy of a slice from a DataFrame.\n",
      "Try using .loc[row_indexer,col_indexer] = value instead\n",
      "\n",
      "See the caveats in the documentation: https://pandas.pydata.org/pandas-docs/stable/user_guide/indexing.html#returning-a-view-versus-a-copy\n",
      "  scraping_asos[\"product_id\"] = scraping_asos[\"url\"].apply(lambda x: x.split(\"/\")[-1].split(\"?\")[0])\n",
      "C:\\Users\\Alex\\AppData\\Local\\Temp\\ipykernel_12192\\282319375.py:2: SettingWithCopyWarning: \n",
      "A value is trying to be set on a copy of a slice from a DataFrame.\n",
      "Try using .loc[row_indexer,col_indexer] = value instead\n",
      "\n",
      "See the caveats in the documentation: https://pandas.pydata.org/pandas-docs/stable/user_guide/indexing.html#returning-a-view-versus-a-copy\n",
      "  scraping_asos[\"product_id\"] = scraping_asos[\"product_id\"].astype('int64')\n",
      "C:\\Users\\Alex\\AppData\\Local\\Temp\\ipykernel_12192\\282319375.py:4: SettingWithCopyWarning: \n",
      "A value is trying to be set on a copy of a slice from a DataFrame.\n",
      "Try using .loc[row_indexer,col_indexer] = value instead\n",
      "\n",
      "See the caveats in the documentation: https://pandas.pydata.org/pandas-docs/stable/user_guide/indexing.html#returning-a-view-versus-a-copy\n",
      "  greendb_asos[\"product_id\"] = greendb_asos[\"url\"].apply(lambda x: x.split(\"/\")[-1])\n",
      "C:\\Users\\Alex\\AppData\\Local\\Temp\\ipykernel_12192\\282319375.py:5: SettingWithCopyWarning: \n",
      "A value is trying to be set on a copy of a slice from a DataFrame.\n",
      "Try using .loc[row_indexer,col_indexer] = value instead\n",
      "\n",
      "See the caveats in the documentation: https://pandas.pydata.org/pandas-docs/stable/user_guide/indexing.html#returning-a-view-versus-a-copy\n",
      "  greendb_asos[\"product_id\"] = greendb_asos[\"product_id\"].astype('int64')\n"
     ]
    }
   ],
   "source": [
    "scraping_asos[\"product_id\"] = scraping_asos[\"url\"].apply(lambda x: x.split(\"/\")[-1].split(\"?\")[0])\n",
    "scraping_asos[\"product_id\"] = scraping_asos[\"product_id\"].astype('int64')\n",
    "\n",
    "greendb_asos[\"product_id\"] = greendb_asos[\"url\"].apply(lambda x: x.split(\"/\")[-1])\n",
    "greendb_asos[\"product_id\"] = greendb_asos[\"product_id\"].astype('int64')"
   ]
  },
  {
   "cell_type": "code",
   "execution_count": 30,
   "id": "bffdf6b8",
   "metadata": {},
   "outputs": [],
   "source": [
    "#prep product index\n",
    "tuples = list(zip( greendb_asos['product_id'], greendb_asos['timestamp'], greendb_asos['category']))\n",
    "index = pd.MultiIndex.from_tuples(tuples, names=[\"timestamp\", \"url\", \"category\"])\n",
    "#greendb_asos[\"id\"] = greendb.index\n",
    "greendb_asos.index = index\n",
    "\n",
    "#prep index for joining\n",
    "tuples = list(zip(scraping_asos['product_id'],scraping_asos['timestamp'], scraping_asos['category']))\n",
    "index = pd.MultiIndex.from_tuples(tuples, names=[\"timestamp\", \"url\", \"category\"])\n",
    "#scraping[\"id\"] = scraping.index\n",
    "scraping_asos.index = index"
   ]
  },
  {
   "cell_type": "code",
   "execution_count": 31,
   "id": "9863dd1e",
   "metadata": {},
   "outputs": [],
   "source": [
    "#remove unwanted columns\n",
    "scraping_asos = scraping_asos[[\"source\", \"country\", \"gender\", \"consumer_lifestage\"]]"
   ]
  },
  {
   "cell_type": "code",
   "execution_count": 32,
   "id": "adddc57e",
   "metadata": {},
   "outputs": [],
   "source": [
    "asos_joined = greendb_asos.join(scraping_asos, how=\"left\")"
   ]
  },
  {
   "cell_type": "code",
   "execution_count": 33,
   "id": "4003f86f",
   "metadata": {},
   "outputs": [
    {
     "data": {
      "text/plain": [
       "timestamp                   0\n",
       "url                         0\n",
       "merchant                    0\n",
       "category                    0\n",
       "name                        0\n",
       "description                 0\n",
       "brand                       0\n",
       "sustainability_labels       0\n",
       "price                       0\n",
       "currency                    0\n",
       "image_urls                  0\n",
       "color                       0\n",
       "size                        0\n",
       "gtin                     1012\n",
       "asin                     1012\n",
       "product_id                  0\n",
       "source                      0\n",
       "country                     0\n",
       "gender                      0\n",
       "consumer_lifestage          0\n",
       "dtype: int64"
      ]
     },
     "execution_count": 33,
     "metadata": {},
     "output_type": "execute_result"
    }
   ],
   "source": [
    "asos_joined.isna().sum()"
   ]
  },
  {
   "cell_type": "code",
   "execution_count": 34,
   "id": "24da5dc0",
   "metadata": {},
   "outputs": [
    {
     "data": {
      "text/plain": [
       "(979, 20)"
      ]
     },
     "execution_count": 34,
     "metadata": {},
     "output_type": "execute_result"
    }
   ],
   "source": [
    "#remove duplicates\n",
    "asos_joined_deduplicated = asos_joined.drop_duplicates(subset=['timestamp', 'url', 'merchant', 'category', 'gender'])\n",
    "asos_joined_deduplicated.shape"
   ]
  },
  {
   "cell_type": "markdown",
   "id": "e3cbf526",
   "metadata": {},
   "source": [
    "## 6.5 combine joined asos and all others"
   ]
  },
  {
   "cell_type": "code",
   "execution_count": 35,
   "id": "16069903",
   "metadata": {},
   "outputs": [
    {
     "data": {
      "text/plain": [
       "(29005, 20)"
      ]
     },
     "execution_count": 35,
     "metadata": {},
     "output_type": "execute_result"
    }
   ],
   "source": [
    "joined_deduplicated = pd.concat([asos_joined_deduplicated, joined_deduplicated])\n",
    "joined_deduplicated.shape"
   ]
  },
  {
   "cell_type": "markdown",
   "id": "1890d331",
   "metadata": {},
   "source": [
    "## 6.6 insert merged data into new greendb"
   ]
  },
  {
   "cell_type": "code",
   "execution_count": 36,
   "id": "9c0f7ec7",
   "metadata": {},
   "outputs": [],
   "source": [
    "from database.connection import GreenDB\n",
    "from core.domain import Product\n",
    "\n",
    "class GreenDBnew(GreenDB):\n",
    "    def write_df(self, df):\n",
    "        \"\"\"\n",
    "        Writes a `dataframe` into the database.        \n",
    "        \"\"\"\n",
    "        with self._session_factory() as db_session:\n",
    "            i = 0\n",
    "            df_len = len(df)\n",
    "            for index, product in df.iterrows():\n",
    "                i += 1\n",
    "                try:                    \n",
    "                    db_object = self._database_class(**Product.parse_obj(product).dict())\n",
    "                    db_session.add(db_object)\n",
    "                except Exception as e:\n",
    "                    print(f\"error for product with index: {index}\")\n",
    "                    print(e)\n",
    "                #commit every 1000 products and at the end\n",
    "                if (i % 1000 == 0) or (i == df_len):\n",
    "                    db_session.commit()\n",
    "                    print(f\"Commited {i} products\")\n",
    "\n",
    "\n",
    "greenDBnew = GreenDBnew()"
   ]
  },
  {
   "cell_type": "code",
   "execution_count": 37,
   "id": "7a2feb49",
   "metadata": {},
   "outputs": [],
   "source": [
    "# transform merchant\n",
    "merchant_to_new_merchant = {\n",
    "    \"asos\": \"asos\",\n",
    "    \"amazon\": \"amazon\",\n",
    "    \"amazon_fr\": \"amazon\",\n",
    "    \"zalando\": \"zalando\",\n",
    "    \"zalando_fr\": \"zalando\",\n",
    "    \"zalando_uk\": \"zalando\",\n",
    "    \"otto\": \"otto\",\n",
    "    \"hm\": \"hm\"\n",
    "}\n",
    "\n",
    "joined_deduplicated[\"merchant\"] = joined_deduplicated[\"merchant\"].apply(lambda x: merchant_to_new_merchant.get(x))\n",
    "\n",
    "# transform color\n",
    "joined_deduplicated[\"colors\"] = joined_deduplicated[\"color\"].apply(lambda x: [x] if x else None)\n",
    "\n",
    "# transform size\n",
    "joined_deduplicated[\"sizes\"] = joined_deduplicated[\"size\"].apply(lambda sizes: None if sizes == 'None' or sizes is None else sizes.split(\", \"))\n",
    "\n",
    "# need to convert NA to None, otherwise pydantic throws errors\n",
    "joined_deduplicated = joined_deduplicated.replace({np.nan: None})"
   ]
  },
  {
   "cell_type": "code",
   "execution_count": 38,
   "id": "567f9e57",
   "metadata": {},
   "outputs": [
    {
     "data": {
      "text/plain": [
       "Product(timestamp=Timestamp('2022-06-04 18:37:23.935453'), url='https://www.asos.com/fr/levis/levis-perfect-t-shirt-a-logo-aile-de-chauve-souris/prd/6721328', source='asos', merchant='asos', country='FR', category='SHIRT', name=\"Levi's - Perfect - T-shirt à logo aile de chauve-souris\", description=\"T-shirt par Levi's. Un modèle de notre sélection durable. Modèle ras de cou. Manches courtes. Levi's - T-shirt avec logo en forme de chauve-souris. Coupe droite. Taille normalement\", brand=\"Levi's\", sustainability_labels=['certificate:BETTER_COTTON_INITIATIVE'], price=29.99, currency='EUR', image_urls=['images.asos-media.com/products/levis-perfect-t-shirt-a-logo-aile-de-chauve-souris/6721328-1-white', 'images.asos-media.com/products/levis-perfect-t-shirt-a-logo-aile-de-chauve-souris/6721328-2', 'images.asos-media.com/products/levis-perfect-t-shirt-a-logo-aile-de-chauve-souris/6721328-3', 'images.asos-media.com/products/levis-perfect-t-shirt-a-logo-aile-de-chauve-souris/6721328-4'], gender='FEMALE', consumer_lifestage='ADULT', colors=['Blanc'], sizes=['XS', 'S', 'M', 'L'], gtin=None, asin=None)"
      ]
     },
     "execution_count": 38,
     "metadata": {},
     "output_type": "execute_result"
    }
   ],
   "source": [
    "# test pydantic product parsing\n",
    "Product.parse_obj(joined_deduplicated.iloc[0])"
   ]
  },
  {
   "cell_type": "code",
   "execution_count": 39,
   "id": "8c2caaab",
   "metadata": {
    "scrolled": true
   },
   "outputs": [
    {
     "name": "stdout",
     "output_type": "stream",
     "text": [
      "Commited 1000 products\n",
      "Commited 2000 products\n",
      "Commited 3000 products\n",
      "Commited 4000 products\n",
      "Commited 5000 products\n",
      "Commited 6000 products\n",
      "Commited 7000 products\n",
      "Commited 8000 products\n",
      "Commited 9000 products\n",
      "Commited 10000 products\n",
      "Commited 11000 products\n",
      "Commited 12000 products\n",
      "Commited 13000 products\n",
      "Commited 14000 products\n",
      "Commited 15000 products\n",
      "Commited 16000 products\n",
      "Commited 17000 products\n",
      "Commited 18000 products\n",
      "Commited 19000 products\n",
      "Commited 20000 products\n",
      "Commited 21000 products\n",
      "Commited 22000 products\n",
      "Commited 23000 products\n",
      "Commited 24000 products\n",
      "Commited 25000 products\n",
      "Commited 26000 products\n",
      "Commited 27000 products\n",
      "Commited 28000 products\n",
      "Commited 29000 products\n",
      "Commited 29005 products\n"
     ]
    }
   ],
   "source": [
    "greenDBnew.write_df(joined_deduplicated)"
   ]
  },
  {
   "cell_type": "code",
   "execution_count": 40,
   "id": "fb970e04",
   "metadata": {},
   "outputs": [
    {
     "name": "stdout",
     "output_type": "stream",
     "text": [
      "Dataframe size is: 29005\n"
     ]
    }
   ],
   "source": [
    "print(f\"Dataframe size is: {len(joined_deduplicated)}\")"
   ]
  },
  {
   "cell_type": "markdown",
   "id": "3831070e",
   "metadata": {},
   "source": [
    "Check product count in database and compare with dataframe size\n",
    "```sql\n",
    "Select Count(id) from \"green-db\";\n",
    "```\n",
    "\n",
    "If everything went well and the tables look good, you can delete the old tables e.g. via:\n",
    "\n",
    "```sql\n",
    "DROP TABLE \"amazon\", \"asos\", \"otto\", \"zalando\", \"zalando_fr\", \"zalando_uk\";\n",
    "DROP TABLE \"green-db-backup\";\n",
    "```\n",
    "\n",
    "Do not forget to set the autoincrement for green-db (see step 7)"
   ]
  }
 ],
 "metadata": {
  "kernelspec": {
   "display_name": "poetry-extract",
   "language": "python",
   "name": "poetry-extract"
  },
  "language_info": {
   "codemirror_mode": {
    "name": "ipython",
    "version": 3
   },
   "file_extension": ".py",
   "mimetype": "text/x-python",
   "name": "python",
   "nbconvert_exporter": "python",
   "pygments_lexer": "ipython3",
   "version": "3.10.2"
  }
 },
 "nbformat": 4,
 "nbformat_minor": 5
}
